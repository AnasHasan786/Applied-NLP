{
  "cells": [
    {
      "cell_type": "markdown",
      "metadata": {
        "id": "sZ8YZFworcLY"
      },
      "source": [
        "# **Spam Ham Classification using NLP**"
      ]
    },
    {
      "cell_type": "code",
      "execution_count": 2,
      "metadata": {
        "id": "K42Cl8h6rAhZ"
      },
      "outputs": [],
      "source": [
        "# Importing the libraries\n",
        "import pandas as pd\n",
        "import re\n",
        "import nltk\n",
        "from nltk.corpus import stopwords\n",
        "from nltk.stem import WordNetLemmatizer\n",
        "from sklearn.feature_extraction.text import CountVectorizer\n",
        "from sklearn.model_selection import train_test_split\n",
        "from sklearn.naive_bayes import MultinomialNB\n",
        "from sklearn.metrics import accuracy_score, classification_report\n",
        "from sklearn.feature_extraction.text import TfidfVectorizer"
      ]
    },
    {
      "cell_type": "code",
      "execution_count": 3,
      "metadata": {},
      "outputs": [],
      "source": [
        "import warnings\n",
        "warnings.filterwarnings('ignore')"
      ]
    },
    {
      "cell_type": "markdown",
      "metadata": {
        "id": "9xhNzWYorj9L"
      },
      "source": [
        "### **1. Exploring data**"
      ]
    },
    {
      "cell_type": "code",
      "execution_count": 4,
      "metadata": {
        "colab": {
          "base_uri": "https://localhost:8080/",
          "height": 423
        },
        "id": "x0jTtSQuuILT",
        "outputId": "9a104f19-b823-4c89-f516-653aef451ec3"
      },
      "outputs": [
        {
          "data": {
            "text/html": [
              "<div>\n",
              "<style scoped>\n",
              "    .dataframe tbody tr th:only-of-type {\n",
              "        vertical-align: middle;\n",
              "    }\n",
              "\n",
              "    .dataframe tbody tr th {\n",
              "        vertical-align: top;\n",
              "    }\n",
              "\n",
              "    .dataframe thead th {\n",
              "        text-align: right;\n",
              "    }\n",
              "</style>\n",
              "<table border=\"1\" class=\"dataframe\">\n",
              "  <thead>\n",
              "    <tr style=\"text-align: right;\">\n",
              "      <th></th>\n",
              "      <th>email</th>\n",
              "      <th>label</th>\n",
              "    </tr>\n",
              "  </thead>\n",
              "  <tbody>\n",
              "    <tr>\n",
              "      <th>0</th>\n",
              "      <td>Upgrade to our premium plan for exclusive acce...</td>\n",
              "      <td>ham</td>\n",
              "    </tr>\n",
              "    <tr>\n",
              "      <th>1</th>\n",
              "      <td>Happy holidays from our team! Wishing you joy ...</td>\n",
              "      <td>ham</td>\n",
              "    </tr>\n",
              "    <tr>\n",
              "      <th>2</th>\n",
              "      <td>We're hiring! Check out our career opportuniti...</td>\n",
              "      <td>ham</td>\n",
              "    </tr>\n",
              "    <tr>\n",
              "      <th>3</th>\n",
              "      <td>Your Amazon account has been locked. Click her...</td>\n",
              "      <td>spam</td>\n",
              "    </tr>\n",
              "    <tr>\n",
              "      <th>4</th>\n",
              "      <td>Your opinion matters! Take our survey and help...</td>\n",
              "      <td>ham</td>\n",
              "    </tr>\n",
              "    <tr>\n",
              "      <th>...</th>\n",
              "      <td>...</td>\n",
              "      <td>...</td>\n",
              "    </tr>\n",
              "    <tr>\n",
              "      <th>174</th>\n",
              "      <td>We're pleased to inform you that your refund h...</td>\n",
              "      <td>ham</td>\n",
              "    </tr>\n",
              "    <tr>\n",
              "      <th>175</th>\n",
              "      <td>Get rich quick! Invest in our revolutionary ne...</td>\n",
              "      <td>spam</td>\n",
              "    </tr>\n",
              "    <tr>\n",
              "      <th>176</th>\n",
              "      <td>Your free trial period is ending soon. Upgrade...</td>\n",
              "      <td>ham</td>\n",
              "    </tr>\n",
              "    <tr>\n",
              "      <th>177</th>\n",
              "      <td>Your order is on its way! Track your shipment ...</td>\n",
              "      <td>ham</td>\n",
              "    </tr>\n",
              "    <tr>\n",
              "      <th>178</th>\n",
              "      <td>Limited-time offer! Get 50% off on all purchas...</td>\n",
              "      <td>spam</td>\n",
              "    </tr>\n",
              "  </tbody>\n",
              "</table>\n",
              "<p>179 rows × 2 columns</p>\n",
              "</div>"
            ],
            "text/plain": [
              "                                                 email label\n",
              "0    Upgrade to our premium plan for exclusive acce...   ham\n",
              "1    Happy holidays from our team! Wishing you joy ...   ham\n",
              "2    We're hiring! Check out our career opportuniti...   ham\n",
              "3    Your Amazon account has been locked. Click her...  spam\n",
              "4    Your opinion matters! Take our survey and help...   ham\n",
              "..                                                 ...   ...\n",
              "174  We're pleased to inform you that your refund h...   ham\n",
              "175  Get rich quick! Invest in our revolutionary ne...  spam\n",
              "176  Your free trial period is ending soon. Upgrade...   ham\n",
              "177  Your order is on its way! Track your shipment ...   ham\n",
              "178  Limited-time offer! Get 50% off on all purchas...  spam\n",
              "\n",
              "[179 rows x 2 columns]"
            ]
          },
          "execution_count": 4,
          "metadata": {},
          "output_type": "execute_result"
        }
      ],
      "source": [
        "emails = pd.read_csv(\"data/email_classification.csv\")\n",
        "emails"
      ]
    },
    {
      "cell_type": "code",
      "execution_count": 5,
      "metadata": {
        "colab": {
          "base_uri": "https://localhost:8080/"
        },
        "id": "CwyBqZFRuXry",
        "outputId": "5d7fa911-dbe8-4472-b642-4846e8b09e30"
      },
      "outputs": [
        {
          "data": {
            "text/plain": [
              "(179, 2)"
            ]
          },
          "execution_count": 5,
          "metadata": {},
          "output_type": "execute_result"
        }
      ],
      "source": [
        "emails.shape"
      ]
    },
    {
      "cell_type": "code",
      "execution_count": 6,
      "metadata": {
        "colab": {
          "base_uri": "https://localhost:8080/",
          "height": 36
        },
        "id": "806dmpb-ucXe",
        "outputId": "a7bdebf8-4f33-45b0-bda2-8da2778d094d"
      },
      "outputs": [
        {
          "data": {
            "text/plain": [
              "'Your opinion matters! Take our survey and help us enhance your experience.'"
            ]
          },
          "execution_count": 6,
          "metadata": {},
          "output_type": "execute_result"
        }
      ],
      "source": [
        "emails['email'].loc[4]"
      ]
    },
    {
      "cell_type": "code",
      "execution_count": 7,
      "metadata": {
        "colab": {
          "base_uri": "https://localhost:8080/",
          "height": 178
        },
        "id": "bNLMTcPlugnr",
        "outputId": "652bd323-4f51-4430-8ef0-6db2c070c51a"
      },
      "outputs": [
        {
          "data": {
            "text/plain": [
              "label\n",
              "ham     100\n",
              "spam     79\n",
              "Name: count, dtype: int64"
            ]
          },
          "execution_count": 7,
          "metadata": {},
          "output_type": "execute_result"
        }
      ],
      "source": [
        "emails['label'].value_counts()"
      ]
    },
    {
      "cell_type": "markdown",
      "metadata": {
        "id": "OE5QcQZvu1-r"
      },
      "source": [
        "### **2. Removing Stopwords and Moving forward with Lemmatization**"
      ]
    },
    {
      "cell_type": "code",
      "execution_count": 8,
      "metadata": {
        "colab": {
          "base_uri": "https://localhost:8080/"
        },
        "id": "5Bu2d0sCup_Q",
        "outputId": "345e38e0-1a5c-4b33-a2f1-0f85a77befda"
      },
      "outputs": [
        {
          "name": "stderr",
          "output_type": "stream",
          "text": [
            "[nltk_data] Downloading package stopwords to\n",
            "[nltk_data]     C:\\Users\\HP\\AppData\\Roaming\\nltk_data...\n",
            "[nltk_data]   Package stopwords is already up-to-date!\n"
          ]
        },
        {
          "data": {
            "text/plain": [
              "True"
            ]
          },
          "execution_count": 8,
          "metadata": {},
          "output_type": "execute_result"
        }
      ],
      "source": [
        "nltk.download('stopwords')"
      ]
    },
    {
      "cell_type": "code",
      "execution_count": 9,
      "metadata": {
        "colab": {
          "base_uri": "https://localhost:8080/"
        },
        "id": "m58LbVEn0mDP",
        "outputId": "8405cbd5-e3d9-4ed5-a519-1dcbb229ce53"
      },
      "outputs": [
        {
          "name": "stderr",
          "output_type": "stream",
          "text": [
            "[nltk_data] Downloading package wordnet to\n",
            "[nltk_data]     C:\\Users\\HP\\AppData\\Roaming\\nltk_data...\n",
            "[nltk_data]   Package wordnet is already up-to-date!\n"
          ]
        },
        {
          "data": {
            "text/plain": [
              "True"
            ]
          },
          "execution_count": 9,
          "metadata": {},
          "output_type": "execute_result"
        }
      ],
      "source": [
        "nltk.download('wordnet')"
      ]
    },
    {
      "cell_type": "code",
      "execution_count": 10,
      "metadata": {
        "id": "s0jz5HVs04jt"
      },
      "outputs": [],
      "source": [
        "lemmatizer = WordNetLemmatizer()"
      ]
    },
    {
      "cell_type": "code",
      "execution_count": 11,
      "metadata": {
        "id": "mNMTP5qF0uCY"
      },
      "outputs": [],
      "source": [
        "corpus_emails = []\n",
        "\n",
        "for i in range(len(emails)):\n",
        "  email = re.sub('[^a-zA-Z]', ' ', emails['email'][i])\n",
        "  email = email.lower()\n",
        "  email = email.split()\n",
        "\n",
        "  email = [lemmatizer.lemmatize(word) for word in email if not word in stopwords.words('english')]\n",
        "  email = ' '.join(email)\n",
        "  corpus_emails.append(email)"
      ]
    },
    {
      "cell_type": "code",
      "execution_count": 12,
      "metadata": {
        "colab": {
          "base_uri": "https://localhost:8080/",
          "height": 36
        },
        "id": "d_LMveUI0-sq",
        "outputId": "21acdd5d-699d-4e26-e226-84c8163b42f7"
      },
      "outputs": [
        {
          "data": {
            "text/plain": [
              "'upgrade premium plan exclusive access premium content feature'"
            ]
          },
          "execution_count": 12,
          "metadata": {},
          "output_type": "execute_result"
        }
      ],
      "source": [
        "corpus_emails[0]"
      ]
    },
    {
      "cell_type": "markdown",
      "metadata": {
        "id": "3OS4lwvSwjS9"
      },
      "source": [
        "### **3. Implementing Bag of Words**"
      ]
    },
    {
      "cell_type": "code",
      "execution_count": 13,
      "metadata": {
        "id": "u13GpCiqwmRO"
      },
      "outputs": [],
      "source": [
        "cv = CountVectorizer(max_features=2500, binary=True, ngram_range=(2, 2))\n",
        "X = cv.fit_transform(corpus_emails).toarray()"
      ]
    },
    {
      "cell_type": "code",
      "execution_count": 14,
      "metadata": {
        "colab": {
          "base_uri": "https://localhost:8080/"
        },
        "id": "SszVk7bUxbv0",
        "outputId": "4bcdc26e-61a9-435e-ae3b-fdf7f6a1b386"
      },
      "outputs": [
        {
          "data": {
            "text/plain": [
              "(179, 693)"
            ]
          },
          "execution_count": 14,
          "metadata": {},
          "output_type": "execute_result"
        }
      ],
      "source": [
        "X.shape"
      ]
    },
    {
      "cell_type": "code",
      "execution_count": 15,
      "metadata": {
        "id": "e2NQmfxnxd8n"
      },
      "outputs": [],
      "source": [
        "y = pd.get_dummies(emails['label'])\n",
        "y = y.iloc[:, 1].values"
      ]
    },
    {
      "cell_type": "code",
      "execution_count": 16,
      "metadata": {
        "id": "n0KG-ievyR-i"
      },
      "outputs": [],
      "source": [
        "X_train, X_test, y_train, y_test = train_test_split(X, y, test_size=0.2)"
      ]
    },
    {
      "cell_type": "code",
      "execution_count": 17,
      "metadata": {
        "id": "wQLenM6TyX8L"
      },
      "outputs": [],
      "source": [
        "spam_detect_model_bg = MultinomialNB().fit(X_train, y_train)"
      ]
    },
    {
      "cell_type": "code",
      "execution_count": 18,
      "metadata": {
        "id": "418ZVJQoyl77"
      },
      "outputs": [],
      "source": [
        "y_pred = spam_detect_model_bg.predict(X_test)"
      ]
    },
    {
      "cell_type": "code",
      "execution_count": 19,
      "metadata": {
        "colab": {
          "base_uri": "https://localhost:8080/"
        },
        "id": "CIV80fT_yrcB",
        "outputId": "cb56271e-db7b-4631-fbd1-2aa506eb84fc"
      },
      "outputs": [
        {
          "name": "stdout",
          "output_type": "stream",
          "text": [
            "0.75\n"
          ]
        }
      ],
      "source": [
        "score_bg = accuracy_score(y_test, y_pred)\n",
        "print(score_bg)"
      ]
    },
    {
      "cell_type": "code",
      "execution_count": 20,
      "metadata": {
        "colab": {
          "base_uri": "https://localhost:8080/"
        },
        "id": "2JYpvfGzy9lA",
        "outputId": "f2526011-87ed-474e-9a6e-1b009ec82ef2"
      },
      "outputs": [
        {
          "name": "stdout",
          "output_type": "stream",
          "text": [
            "              precision    recall  f1-score   support\n",
            "\n",
            "       False       0.55      1.00      0.71        11\n",
            "        True       1.00      0.64      0.78        25\n",
            "\n",
            "    accuracy                           0.75        36\n",
            "   macro avg       0.78      0.82      0.75        36\n",
            "weighted avg       0.86      0.75      0.76        36\n",
            "\n"
          ]
        }
      ],
      "source": [
        "print(classification_report(y_pred, y_test))"
      ]
    },
    {
      "cell_type": "markdown",
      "metadata": {
        "id": "sqfzMDXDzPTK"
      },
      "source": [
        "### **4. Implementing TF-IDF Model**"
      ]
    },
    {
      "cell_type": "code",
      "execution_count": 21,
      "metadata": {
        "id": "x4anQ0HZzCRq"
      },
      "outputs": [],
      "source": [
        "tv = TfidfVectorizer(max_features=2500, ngram_range=(2, 2))\n",
        "X = tv.fit_transform(corpus_emails).toarray()"
      ]
    },
    {
      "cell_type": "code",
      "execution_count": 22,
      "metadata": {
        "id": "yV0WGUBGzqfn"
      },
      "outputs": [],
      "source": [
        "X_train, X_test, y_train, y_test = train_test_split(X, y, test_size=0.2)"
      ]
    },
    {
      "cell_type": "code",
      "execution_count": 23,
      "metadata": {
        "id": "TDN2VwtMzzpb"
      },
      "outputs": [],
      "source": [
        "spam_detect_model_tfidf = MultinomialNB().fit(X_train, y_train)"
      ]
    },
    {
      "cell_type": "code",
      "execution_count": 24,
      "metadata": {
        "id": "q2gKuiIM0ACc"
      },
      "outputs": [],
      "source": [
        "y_pred = spam_detect_model_tfidf.predict(X_test)"
      ]
    },
    {
      "cell_type": "code",
      "execution_count": 25,
      "metadata": {
        "colab": {
          "base_uri": "https://localhost:8080/"
        },
        "id": "33nkwfY40D-U",
        "outputId": "d5675919-f22d-4fa7-e25a-1a9c3fe9f180"
      },
      "outputs": [
        {
          "name": "stdout",
          "output_type": "stream",
          "text": [
            "0.9166666666666666\n"
          ]
        }
      ],
      "source": [
        "score_tfidf = accuracy_score(y_test, y_pred)\n",
        "print(score_tfidf)"
      ]
    },
    {
      "cell_type": "code",
      "execution_count": 26,
      "metadata": {
        "colab": {
          "base_uri": "https://localhost:8080/"
        },
        "id": "gD-Z7hoH0GWM",
        "outputId": "cde4a886-6ee0-4fb0-b628-eaa68be2db24"
      },
      "outputs": [
        {
          "name": "stdout",
          "output_type": "stream",
          "text": [
            "              precision    recall  f1-score   support\n",
            "\n",
            "       False       0.95      0.90      0.93        21\n",
            "        True       0.88      0.93      0.90        15\n",
            "\n",
            "    accuracy                           0.92        36\n",
            "   macro avg       0.91      0.92      0.92        36\n",
            "weighted avg       0.92      0.92      0.92        36\n",
            "\n"
          ]
        }
      ],
      "source": [
        "print(classification_report(y_pred, y_test))"
      ]
    },
    {
      "cell_type": "code",
      "execution_count": 28,
      "metadata": {
        "id": "-qjaRpA27YeG"
      },
      "outputs": [],
      "source": []
    }
  ],
  "metadata": {
    "accelerator": "GPU",
    "colab": {
      "gpuType": "T4",
      "provenance": []
    },
    "kernelspec": {
      "display_name": "Python 3",
      "name": "python3"
    },
    "language_info": {
      "codemirror_mode": {
        "name": "ipython",
        "version": 3
      },
      "file_extension": ".py",
      "mimetype": "text/x-python",
      "name": "python",
      "nbconvert_exporter": "python",
      "pygments_lexer": "ipython3",
      "version": "3.12.6"
    }
  },
  "nbformat": 4,
  "nbformat_minor": 0
}
